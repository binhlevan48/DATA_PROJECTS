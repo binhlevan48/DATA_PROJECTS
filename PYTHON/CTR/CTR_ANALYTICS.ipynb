{
 "cells": [
  {
   "cell_type": "code",
   "execution_count": 4,
   "metadata": {
    "execution": {
     "iopub.execute_input": "2023-06-17T09:43:32.938372Z",
     "iopub.status.busy": "2023-06-17T09:43:32.937994Z",
     "iopub.status.idle": "2023-06-17T09:43:33.977534Z",
     "shell.execute_reply": "2023-06-17T09:43:33.976468Z",
     "shell.execute_reply.started": "2023-06-17T09:43:32.938335Z"
    }
   },
   "outputs": [],
   "source": [
    "import pandas as pd\n",
    "import numpy as np\n",
    "import seaborn as sns\n",
    "import matplotlib.pyplot as plt\n",
    "import time\n",
    "import warnings\n",
    "warnings.filterwarnings('ignore')\n",
    "\n",
    "import os\n",
    "for dirname, _, filenames in os.walk('/kaggle/input'):\n",
    "    for filename in filenames:\n",
    "        print(os.path.join(dirname, filename))"
   ]
  },
  {
   "cell_type": "code",
   "execution_count": 3,
   "metadata": {
    "execution": {
     "iopub.execute_input": "2023-06-17T09:43:33.979110Z",
     "iopub.status.busy": "2023-06-17T09:43:33.978780Z",
     "iopub.status.idle": "2023-06-17T09:43:35.329969Z",
     "shell.execute_reply": "2023-06-17T09:43:35.328746Z",
     "shell.execute_reply.started": "2023-06-17T09:43:33.979077Z"
    }
   },
   "outputs": [],
   "source": [
    "df = pd.read_csv(\"/kaggle/input/ctr-in-advertisement/Ad_click_prediction_train (1).csv\")"
   ]
  },
  {
   "cell_type": "code",
   "execution_count": 4,
   "metadata": {
    "execution": {
     "iopub.execute_input": "2023-06-17T09:43:35.332620Z",
     "iopub.status.busy": "2023-06-17T09:43:35.332050Z",
     "iopub.status.idle": "2023-06-17T09:43:35.371993Z",
     "shell.execute_reply": "2023-06-17T09:43:35.370840Z",
     "shell.execute_reply.started": "2023-06-17T09:43:35.332569Z"
    }
   },
   "outputs": [
    {
     "data": {
      "text/html": [
       "<div>\n",
       "<style scoped>\n",
       "    .dataframe tbody tr th:only-of-type {\n",
       "        vertical-align: middle;\n",
       "    }\n",
       "\n",
       "    .dataframe tbody tr th {\n",
       "        vertical-align: top;\n",
       "    }\n",
       "\n",
       "    .dataframe thead th {\n",
       "        text-align: right;\n",
       "    }\n",
       "</style>\n",
       "<table border=\"1\" class=\"dataframe\">\n",
       "  <thead>\n",
       "    <tr style=\"text-align: right;\">\n",
       "      <th></th>\n",
       "      <th>session_id</th>\n",
       "      <th>DateTime</th>\n",
       "      <th>user_id</th>\n",
       "      <th>product</th>\n",
       "      <th>campaign_id</th>\n",
       "      <th>webpage_id</th>\n",
       "      <th>product_category_1</th>\n",
       "      <th>product_category_2</th>\n",
       "      <th>user_group_id</th>\n",
       "      <th>gender</th>\n",
       "      <th>age_level</th>\n",
       "      <th>user_depth</th>\n",
       "      <th>city_development_index</th>\n",
       "      <th>var_1</th>\n",
       "      <th>is_click</th>\n",
       "    </tr>\n",
       "  </thead>\n",
       "  <tbody>\n",
       "    <tr>\n",
       "      <th>0</th>\n",
       "      <td>140690</td>\n",
       "      <td>2017-07-02 00:00</td>\n",
       "      <td>858557</td>\n",
       "      <td>C</td>\n",
       "      <td>359520</td>\n",
       "      <td>13787</td>\n",
       "      <td>4</td>\n",
       "      <td>NaN</td>\n",
       "      <td>10.0</td>\n",
       "      <td>Female</td>\n",
       "      <td>4.0</td>\n",
       "      <td>3.0</td>\n",
       "      <td>3.0</td>\n",
       "      <td>0</td>\n",
       "      <td>0</td>\n",
       "    </tr>\n",
       "    <tr>\n",
       "      <th>1</th>\n",
       "      <td>333291</td>\n",
       "      <td>2017-07-02 00:00</td>\n",
       "      <td>243253</td>\n",
       "      <td>C</td>\n",
       "      <td>105960</td>\n",
       "      <td>11085</td>\n",
       "      <td>5</td>\n",
       "      <td>NaN</td>\n",
       "      <td>8.0</td>\n",
       "      <td>Female</td>\n",
       "      <td>2.0</td>\n",
       "      <td>2.0</td>\n",
       "      <td>NaN</td>\n",
       "      <td>0</td>\n",
       "      <td>0</td>\n",
       "    </tr>\n",
       "    <tr>\n",
       "      <th>2</th>\n",
       "      <td>129781</td>\n",
       "      <td>2017-07-02 00:00</td>\n",
       "      <td>243253</td>\n",
       "      <td>C</td>\n",
       "      <td>359520</td>\n",
       "      <td>13787</td>\n",
       "      <td>4</td>\n",
       "      <td>NaN</td>\n",
       "      <td>8.0</td>\n",
       "      <td>Female</td>\n",
       "      <td>2.0</td>\n",
       "      <td>2.0</td>\n",
       "      <td>NaN</td>\n",
       "      <td>0</td>\n",
       "      <td>0</td>\n",
       "    </tr>\n",
       "    <tr>\n",
       "      <th>3</th>\n",
       "      <td>464848</td>\n",
       "      <td>2017-07-02 00:00</td>\n",
       "      <td>1097446</td>\n",
       "      <td>I</td>\n",
       "      <td>359520</td>\n",
       "      <td>13787</td>\n",
       "      <td>3</td>\n",
       "      <td>NaN</td>\n",
       "      <td>3.0</td>\n",
       "      <td>Male</td>\n",
       "      <td>3.0</td>\n",
       "      <td>3.0</td>\n",
       "      <td>2.0</td>\n",
       "      <td>1</td>\n",
       "      <td>0</td>\n",
       "    </tr>\n",
       "    <tr>\n",
       "      <th>4</th>\n",
       "      <td>90569</td>\n",
       "      <td>2017-07-02 00:01</td>\n",
       "      <td>663656</td>\n",
       "      <td>C</td>\n",
       "      <td>405490</td>\n",
       "      <td>60305</td>\n",
       "      <td>3</td>\n",
       "      <td>NaN</td>\n",
       "      <td>2.0</td>\n",
       "      <td>Male</td>\n",
       "      <td>2.0</td>\n",
       "      <td>3.0</td>\n",
       "      <td>2.0</td>\n",
       "      <td>1</td>\n",
       "      <td>0</td>\n",
       "    </tr>\n",
       "  </tbody>\n",
       "</table>\n",
       "</div>"
      ],
      "text/plain": [
       "   session_id          DateTime  user_id product  campaign_id  webpage_id  \\\n",
       "0      140690  2017-07-02 00:00   858557       C       359520       13787   \n",
       "1      333291  2017-07-02 00:00   243253       C       105960       11085   \n",
       "2      129781  2017-07-02 00:00   243253       C       359520       13787   \n",
       "3      464848  2017-07-02 00:00  1097446       I       359520       13787   \n",
       "4       90569  2017-07-02 00:01   663656       C       405490       60305   \n",
       "\n",
       "   product_category_1  product_category_2  user_group_id  gender  age_level  \\\n",
       "0                   4                 NaN           10.0  Female        4.0   \n",
       "1                   5                 NaN            8.0  Female        2.0   \n",
       "2                   4                 NaN            8.0  Female        2.0   \n",
       "3                   3                 NaN            3.0    Male        3.0   \n",
       "4                   3                 NaN            2.0    Male        2.0   \n",
       "\n",
       "   user_depth  city_development_index  var_1  is_click  \n",
       "0         3.0                     3.0      0         0  \n",
       "1         2.0                     NaN      0         0  \n",
       "2         2.0                     NaN      0         0  \n",
       "3         3.0                     2.0      1         0  \n",
       "4         3.0                     2.0      1         0  "
      ]
     },
     "execution_count": 4,
     "metadata": {},
     "output_type": "execute_result"
    }
   ],
   "source": [
    "df.head()"
   ]
  },
  {
   "cell_type": "code",
   "execution_count": 5,
   "metadata": {
    "execution": {
     "iopub.execute_input": "2023-06-17T09:43:35.375412Z",
     "iopub.status.busy": "2023-06-17T09:43:35.375027Z",
     "iopub.status.idle": "2023-06-17T09:43:35.382000Z",
     "shell.execute_reply": "2023-06-17T09:43:35.381197Z",
     "shell.execute_reply.started": "2023-06-17T09:43:35.375360Z"
    }
   },
   "outputs": [
    {
     "data": {
      "text/plain": [
       "(463291, 15)"
      ]
     },
     "execution_count": 5,
     "metadata": {},
     "output_type": "execute_result"
    }
   ],
   "source": [
    "df.shape"
   ]
  },
  {
   "cell_type": "code",
   "execution_count": 6,
   "metadata": {
    "execution": {
     "iopub.execute_input": "2023-06-17T09:43:35.383961Z",
     "iopub.status.busy": "2023-06-17T09:43:35.383102Z",
     "iopub.status.idle": "2023-06-17T09:43:35.742750Z",
     "shell.execute_reply": "2023-06-17T09:43:35.741413Z",
     "shell.execute_reply.started": "2023-06-17T09:43:35.383927Z"
    }
   },
   "outputs": [
    {
     "data": {
      "text/html": [
       "<div>\n",
       "<style scoped>\n",
       "    .dataframe tbody tr th:only-of-type {\n",
       "        vertical-align: middle;\n",
       "    }\n",
       "\n",
       "    .dataframe tbody tr th {\n",
       "        vertical-align: top;\n",
       "    }\n",
       "\n",
       "    .dataframe thead th {\n",
       "        text-align: right;\n",
       "    }\n",
       "</style>\n",
       "<table border=\"1\" class=\"dataframe\">\n",
       "  <thead>\n",
       "    <tr style=\"text-align: right;\">\n",
       "      <th></th>\n",
       "      <th>session_id</th>\n",
       "      <th>DateTime</th>\n",
       "      <th>user_id</th>\n",
       "      <th>product</th>\n",
       "      <th>campaign_id</th>\n",
       "      <th>webpage_id</th>\n",
       "      <th>product_category_1</th>\n",
       "      <th>product_category_2</th>\n",
       "      <th>user_group_id</th>\n",
       "      <th>gender</th>\n",
       "      <th>age_level</th>\n",
       "      <th>user_depth</th>\n",
       "      <th>city_development_index</th>\n",
       "      <th>var_1</th>\n",
       "      <th>is_click</th>\n",
       "    </tr>\n",
       "  </thead>\n",
       "  <tbody>\n",
       "    <tr>\n",
       "      <th>column type</th>\n",
       "      <td>int64</td>\n",
       "      <td>object</td>\n",
       "      <td>int64</td>\n",
       "      <td>object</td>\n",
       "      <td>int64</td>\n",
       "      <td>int64</td>\n",
       "      <td>int64</td>\n",
       "      <td>float64</td>\n",
       "      <td>float64</td>\n",
       "      <td>object</td>\n",
       "      <td>float64</td>\n",
       "      <td>float64</td>\n",
       "      <td>float64</td>\n",
       "      <td>int64</td>\n",
       "      <td>int64</td>\n",
       "    </tr>\n",
       "    <tr>\n",
       "      <th>null values (nb)</th>\n",
       "      <td>0</td>\n",
       "      <td>0</td>\n",
       "      <td>0</td>\n",
       "      <td>0</td>\n",
       "      <td>0</td>\n",
       "      <td>0</td>\n",
       "      <td>0</td>\n",
       "      <td>365854</td>\n",
       "      <td>18243</td>\n",
       "      <td>18243</td>\n",
       "      <td>18243</td>\n",
       "      <td>18243</td>\n",
       "      <td>125129</td>\n",
       "      <td>0</td>\n",
       "      <td>0</td>\n",
       "    </tr>\n",
       "    <tr>\n",
       "      <th>null values (%)</th>\n",
       "      <td>0.0</td>\n",
       "      <td>0.0</td>\n",
       "      <td>0.0</td>\n",
       "      <td>0.0</td>\n",
       "      <td>0.0</td>\n",
       "      <td>0.0</td>\n",
       "      <td>0.0</td>\n",
       "      <td>78.96851</td>\n",
       "      <td>3.937698</td>\n",
       "      <td>3.937698</td>\n",
       "      <td>3.937698</td>\n",
       "      <td>3.937698</td>\n",
       "      <td>27.008727</td>\n",
       "      <td>0.0</td>\n",
       "      <td>0.0</td>\n",
       "    </tr>\n",
       "  </tbody>\n",
       "</table>\n",
       "</div>"
      ],
      "text/plain": [
       "                 session_id DateTime user_id product campaign_id webpage_id  \\\n",
       "column type           int64   object   int64  object       int64      int64   \n",
       "null values (nb)          0        0       0       0           0          0   \n",
       "null values (%)         0.0      0.0     0.0     0.0         0.0        0.0   \n",
       "\n",
       "                 product_category_1 product_category_2 user_group_id  \\\n",
       "column type                   int64            float64       float64   \n",
       "null values (nb)                  0             365854         18243   \n",
       "null values (%)                 0.0           78.96851      3.937698   \n",
       "\n",
       "                    gender age_level user_depth city_development_index  var_1  \\\n",
       "column type         object   float64    float64                float64  int64   \n",
       "null values (nb)     18243     18243      18243                 125129      0   \n",
       "null values (%)   3.937698  3.937698   3.937698              27.008727    0.0   \n",
       "\n",
       "                 is_click  \n",
       "column type         int64  \n",
       "null values (nb)        0  \n",
       "null values (%)       0.0  "
      ]
     },
     "execution_count": 6,
     "metadata": {},
     "output_type": "execute_result"
    }
   ],
   "source": [
    "tab_info=pd.DataFrame(df.dtypes).T.rename(index={0:'column type'})\n",
    "tab_info=tab_info.append(pd.DataFrame(df.isnull().sum()).T.rename(index={0:'null values (nb)'}))\n",
    "tab_info=tab_info.append(pd.DataFrame(df.isnull().sum()/df.shape[0]*100)\n",
    "                         .T.rename(index={0:'null values (%)'}))\n",
    "tab_info"
   ]
  },
  {
   "cell_type": "code",
   "execution_count": 7,
   "metadata": {
    "execution": {
     "iopub.execute_input": "2023-06-17T09:43:35.745094Z",
     "iopub.status.busy": "2023-06-17T09:43:35.744650Z",
     "iopub.status.idle": "2023-06-17T09:43:35.778379Z",
     "shell.execute_reply": "2023-06-17T09:43:35.777062Z",
     "shell.execute_reply.started": "2023-06-17T09:43:35.745057Z"
    }
   },
   "outputs": [],
   "source": [
    "df.drop(labels='product_category_2', axis=1, inplace=True)"
   ]
  },
  {
   "cell_type": "code",
   "execution_count": 8,
   "metadata": {
    "execution": {
     "iopub.execute_input": "2023-06-17T09:43:35.781293Z",
     "iopub.status.busy": "2023-06-17T09:43:35.780756Z",
     "iopub.status.idle": "2023-06-17T09:43:35.861285Z",
     "shell.execute_reply": "2023-06-17T09:43:35.859861Z",
     "shell.execute_reply.started": "2023-06-17T09:43:35.781243Z"
    }
   },
   "outputs": [
    {
     "data": {
      "text/plain": [
       "31331"
      ]
     },
     "execution_count": 8,
     "metadata": {},
     "output_type": "execute_result"
    }
   ],
   "source": [
    "sum(df['is_click'] == 1)"
   ]
  },
  {
   "cell_type": "code",
   "execution_count": 9,
   "metadata": {
    "execution": {
     "iopub.execute_input": "2023-06-17T09:43:35.863105Z",
     "iopub.status.busy": "2023-06-17T09:43:35.862625Z",
     "iopub.status.idle": "2023-06-17T09:43:35.892029Z",
     "shell.execute_reply": "2023-06-17T09:43:35.890612Z",
     "shell.execute_reply.started": "2023-06-17T09:43:35.863064Z"
    }
   },
   "outputs": [],
   "source": [
    "\n",
    "num_missing = df['city_development_index'].isnull().sum()\n",
    "if num_missing > 0:\n",
    "    missing_indices = df['city_development_index'].isnull()\n",
    "    num_missing_values = num_missing\n",
    "    replace_values = np.random.choice([1, 2, 3,4], size=num_missing_values, p=[0.25, 0.25,0.25,0.25])\n",
    "    df['city_development_index'][missing_indices] = replace_values"
   ]
  },
  {
   "cell_type": "code",
   "execution_count": 10,
   "metadata": {
    "execution": {
     "iopub.execute_input": "2023-06-17T09:43:35.894061Z",
     "iopub.status.busy": "2023-06-17T09:43:35.893647Z",
     "iopub.status.idle": "2023-06-17T09:43:36.065148Z",
     "shell.execute_reply": "2023-06-17T09:43:36.064106Z",
     "shell.execute_reply.started": "2023-06-17T09:43:35.894025Z"
    }
   },
   "outputs": [
    {
     "data": {
      "text/plain": [
       "session_id                    0\n",
       "DateTime                      0\n",
       "user_id                       0\n",
       "product                       0\n",
       "campaign_id                   0\n",
       "webpage_id                    0\n",
       "product_category_1            0\n",
       "user_group_id             18243\n",
       "gender                    18243\n",
       "age_level                 18243\n",
       "user_depth                18243\n",
       "city_development_index        0\n",
       "var_1                         0\n",
       "is_click                      0\n",
       "dtype: int64"
      ]
     },
     "execution_count": 10,
     "metadata": {},
     "output_type": "execute_result"
    }
   ],
   "source": [
    "df.isna().sum()"
   ]
  },
  {
   "cell_type": "code",
   "execution_count": 11,
   "metadata": {
    "execution": {
     "iopub.execute_input": "2023-06-17T09:43:36.067434Z",
     "iopub.status.busy": "2023-06-17T09:43:36.066725Z",
     "iopub.status.idle": "2023-06-17T09:43:36.300995Z",
     "shell.execute_reply": "2023-06-17T09:43:36.299700Z",
     "shell.execute_reply.started": "2023-06-17T09:43:36.067366Z"
    }
   },
   "outputs": [],
   "source": [
    "df = df.dropna()"
   ]
  },
  {
   "cell_type": "code",
   "execution_count": 12,
   "metadata": {
    "execution": {
     "iopub.execute_input": "2023-06-17T09:43:36.303215Z",
     "iopub.status.busy": "2023-06-17T09:43:36.302701Z",
     "iopub.status.idle": "2023-06-17T09:43:36.468217Z",
     "shell.execute_reply": "2023-06-17T09:43:36.467008Z",
     "shell.execute_reply.started": "2023-06-17T09:43:36.303164Z"
    }
   },
   "outputs": [
    {
     "data": {
      "text/plain": [
       "session_id                0\n",
       "DateTime                  0\n",
       "user_id                   0\n",
       "product                   0\n",
       "campaign_id               0\n",
       "webpage_id                0\n",
       "product_category_1        0\n",
       "user_group_id             0\n",
       "gender                    0\n",
       "age_level                 0\n",
       "user_depth                0\n",
       "city_development_index    0\n",
       "var_1                     0\n",
       "is_click                  0\n",
       "dtype: int64"
      ]
     },
     "execution_count": 12,
     "metadata": {},
     "output_type": "execute_result"
    }
   ],
   "source": [
    "df.isna().sum()"
   ]
  },
  {
   "cell_type": "code",
   "execution_count": 13,
   "metadata": {
    "execution": {
     "iopub.execute_input": "2023-06-17T09:43:36.470338Z",
     "iopub.status.busy": "2023-06-17T09:43:36.469899Z",
     "iopub.status.idle": "2023-06-17T09:43:36.550643Z",
     "shell.execute_reply": "2023-06-17T09:43:36.549348Z",
     "shell.execute_reply.started": "2023-06-17T09:43:36.470297Z"
    }
   },
   "outputs": [
    {
     "data": {
      "text/plain": [
       "30057"
      ]
     },
     "execution_count": 13,
     "metadata": {},
     "output_type": "execute_result"
    }
   ],
   "source": [
    "sum(df['is_click'] == 1)"
   ]
  },
  {
   "cell_type": "code",
   "execution_count": 14,
   "metadata": {
    "execution": {
     "iopub.execute_input": "2023-06-17T09:43:36.562002Z",
     "iopub.status.busy": "2023-06-17T09:43:36.560296Z",
     "iopub.status.idle": "2023-06-17T09:43:36.588022Z",
     "shell.execute_reply": "2023-06-17T09:43:36.586492Z",
     "shell.execute_reply.started": "2023-06-17T09:43:36.561942Z"
    }
   },
   "outputs": [
    {
     "data": {
      "text/html": [
       "<div>\n",
       "<style scoped>\n",
       "    .dataframe tbody tr th:only-of-type {\n",
       "        vertical-align: middle;\n",
       "    }\n",
       "\n",
       "    .dataframe tbody tr th {\n",
       "        vertical-align: top;\n",
       "    }\n",
       "\n",
       "    .dataframe thead th {\n",
       "        text-align: right;\n",
       "    }\n",
       "</style>\n",
       "<table border=\"1\" class=\"dataframe\">\n",
       "  <thead>\n",
       "    <tr style=\"text-align: right;\">\n",
       "      <th></th>\n",
       "      <th>session_id</th>\n",
       "      <th>DateTime</th>\n",
       "      <th>user_id</th>\n",
       "      <th>product</th>\n",
       "      <th>campaign_id</th>\n",
       "      <th>webpage_id</th>\n",
       "      <th>product_category_1</th>\n",
       "      <th>user_group_id</th>\n",
       "      <th>gender</th>\n",
       "      <th>age_level</th>\n",
       "      <th>user_depth</th>\n",
       "      <th>city_development_index</th>\n",
       "      <th>var_1</th>\n",
       "      <th>is_click</th>\n",
       "    </tr>\n",
       "  </thead>\n",
       "  <tbody>\n",
       "    <tr>\n",
       "      <th>0</th>\n",
       "      <td>140690</td>\n",
       "      <td>2017-07-02 00:00</td>\n",
       "      <td>858557</td>\n",
       "      <td>C</td>\n",
       "      <td>359520</td>\n",
       "      <td>13787</td>\n",
       "      <td>4</td>\n",
       "      <td>10.0</td>\n",
       "      <td>Female</td>\n",
       "      <td>4.0</td>\n",
       "      <td>3.0</td>\n",
       "      <td>3.0</td>\n",
       "      <td>0</td>\n",
       "      <td>0</td>\n",
       "    </tr>\n",
       "    <tr>\n",
       "      <th>1</th>\n",
       "      <td>333291</td>\n",
       "      <td>2017-07-02 00:00</td>\n",
       "      <td>243253</td>\n",
       "      <td>C</td>\n",
       "      <td>105960</td>\n",
       "      <td>11085</td>\n",
       "      <td>5</td>\n",
       "      <td>8.0</td>\n",
       "      <td>Female</td>\n",
       "      <td>2.0</td>\n",
       "      <td>2.0</td>\n",
       "      <td>2.0</td>\n",
       "      <td>0</td>\n",
       "      <td>0</td>\n",
       "    </tr>\n",
       "    <tr>\n",
       "      <th>2</th>\n",
       "      <td>129781</td>\n",
       "      <td>2017-07-02 00:00</td>\n",
       "      <td>243253</td>\n",
       "      <td>C</td>\n",
       "      <td>359520</td>\n",
       "      <td>13787</td>\n",
       "      <td>4</td>\n",
       "      <td>8.0</td>\n",
       "      <td>Female</td>\n",
       "      <td>2.0</td>\n",
       "      <td>2.0</td>\n",
       "      <td>4.0</td>\n",
       "      <td>0</td>\n",
       "      <td>0</td>\n",
       "    </tr>\n",
       "    <tr>\n",
       "      <th>3</th>\n",
       "      <td>464848</td>\n",
       "      <td>2017-07-02 00:00</td>\n",
       "      <td>1097446</td>\n",
       "      <td>I</td>\n",
       "      <td>359520</td>\n",
       "      <td>13787</td>\n",
       "      <td>3</td>\n",
       "      <td>3.0</td>\n",
       "      <td>Male</td>\n",
       "      <td>3.0</td>\n",
       "      <td>3.0</td>\n",
       "      <td>2.0</td>\n",
       "      <td>1</td>\n",
       "      <td>0</td>\n",
       "    </tr>\n",
       "    <tr>\n",
       "      <th>4</th>\n",
       "      <td>90569</td>\n",
       "      <td>2017-07-02 00:01</td>\n",
       "      <td>663656</td>\n",
       "      <td>C</td>\n",
       "      <td>405490</td>\n",
       "      <td>60305</td>\n",
       "      <td>3</td>\n",
       "      <td>2.0</td>\n",
       "      <td>Male</td>\n",
       "      <td>2.0</td>\n",
       "      <td>3.0</td>\n",
       "      <td>2.0</td>\n",
       "      <td>1</td>\n",
       "      <td>0</td>\n",
       "    </tr>\n",
       "  </tbody>\n",
       "</table>\n",
       "</div>"
      ],
      "text/plain": [
       "   session_id          DateTime  user_id product  campaign_id  webpage_id  \\\n",
       "0      140690  2017-07-02 00:00   858557       C       359520       13787   \n",
       "1      333291  2017-07-02 00:00   243253       C       105960       11085   \n",
       "2      129781  2017-07-02 00:00   243253       C       359520       13787   \n",
       "3      464848  2017-07-02 00:00  1097446       I       359520       13787   \n",
       "4       90569  2017-07-02 00:01   663656       C       405490       60305   \n",
       "\n",
       "   product_category_1  user_group_id  gender  age_level  user_depth  \\\n",
       "0                   4           10.0  Female        4.0         3.0   \n",
       "1                   5            8.0  Female        2.0         2.0   \n",
       "2                   4            8.0  Female        2.0         2.0   \n",
       "3                   3            3.0    Male        3.0         3.0   \n",
       "4                   3            2.0    Male        2.0         3.0   \n",
       "\n",
       "   city_development_index  var_1  is_click  \n",
       "0                     3.0      0         0  \n",
       "1                     2.0      0         0  \n",
       "2                     4.0      0         0  \n",
       "3                     2.0      1         0  \n",
       "4                     2.0      1         0  "
      ]
     },
     "execution_count": 14,
     "metadata": {},
     "output_type": "execute_result"
    }
   ],
   "source": [
    "df.head()"
   ]
  },
  {
   "cell_type": "code",
   "execution_count": 15,
   "metadata": {
    "execution": {
     "iopub.execute_input": "2023-06-17T09:43:36.592790Z",
     "iopub.status.busy": "2023-06-17T09:43:36.592347Z",
     "iopub.status.idle": "2023-06-17T09:43:37.077228Z",
     "shell.execute_reply": "2023-06-17T09:43:37.074961Z",
     "shell.execute_reply.started": "2023-06-17T09:43:36.592749Z"
    }
   },
   "outputs": [],
   "source": [
    "from sklearn.preprocessing import LabelEncoder\n",
    "\n",
    "LE = LabelEncoder()\n",
    "df['gender'] = LE.fit_transform(df['gender'])\n",
    "df['product'] = LE.fit_transform(df['product'])"
   ]
  },
  {
   "cell_type": "code",
   "execution_count": 16,
   "metadata": {
    "execution": {
     "iopub.execute_input": "2023-06-17T09:43:37.079092Z",
     "iopub.status.busy": "2023-06-17T09:43:37.078610Z",
     "iopub.status.idle": "2023-06-17T09:43:37.173226Z",
     "shell.execute_reply": "2023-06-17T09:43:37.171572Z",
     "shell.execute_reply.started": "2023-06-17T09:43:37.079038Z"
    }
   },
   "outputs": [
    {
     "name": "stdout",
     "output_type": "stream",
     "text": [
      "<class 'pandas.core.frame.DataFrame'>\n",
      "Int64Index: 445048 entries, 0 to 463290\n",
      "Data columns (total 14 columns):\n",
      " #   Column                  Non-Null Count   Dtype  \n",
      "---  ------                  --------------   -----  \n",
      " 0   session_id              445048 non-null  int64  \n",
      " 1   DateTime                445048 non-null  object \n",
      " 2   user_id                 445048 non-null  int64  \n",
      " 3   product                 445048 non-null  int64  \n",
      " 4   campaign_id             445048 non-null  int64  \n",
      " 5   webpage_id              445048 non-null  int64  \n",
      " 6   product_category_1      445048 non-null  int64  \n",
      " 7   user_group_id           445048 non-null  float64\n",
      " 8   gender                  445048 non-null  int64  \n",
      " 9   age_level               445048 non-null  float64\n",
      " 10  user_depth              445048 non-null  float64\n",
      " 11  city_development_index  445048 non-null  float64\n",
      " 12  var_1                   445048 non-null  int64  \n",
      " 13  is_click                445048 non-null  int64  \n",
      "dtypes: float64(4), int64(9), object(1)\n",
      "memory usage: 50.9+ MB\n"
     ]
    }
   ],
   "source": [
    "df.info()"
   ]
  },
  {
   "cell_type": "code",
   "execution_count": 17,
   "metadata": {
    "execution": {
     "iopub.execute_input": "2023-06-17T09:43:37.175467Z",
     "iopub.status.busy": "2023-06-17T09:43:37.174960Z",
     "iopub.status.idle": "2023-06-17T09:43:37.351227Z",
     "shell.execute_reply": "2023-06-17T09:43:37.349837Z",
     "shell.execute_reply.started": "2023-06-17T09:43:37.175420Z"
    }
   },
   "outputs": [],
   "source": [
    "df['DateTime'] = pd.to_datetime(df['DateTime'])\n",
    "df['DateTime'] = df['DateTime'].dt.hour"
   ]
  },
  {
   "cell_type": "code",
   "execution_count": 18,
   "metadata": {
    "execution": {
     "iopub.execute_input": "2023-06-17T09:43:37.354122Z",
     "iopub.status.busy": "2023-06-17T09:43:37.352862Z",
     "iopub.status.idle": "2023-06-17T09:43:37.378434Z",
     "shell.execute_reply": "2023-06-17T09:43:37.377302Z",
     "shell.execute_reply.started": "2023-06-17T09:43:37.354070Z"
    }
   },
   "outputs": [
    {
     "data": {
      "text/html": [
       "<div>\n",
       "<style scoped>\n",
       "    .dataframe tbody tr th:only-of-type {\n",
       "        vertical-align: middle;\n",
       "    }\n",
       "\n",
       "    .dataframe tbody tr th {\n",
       "        vertical-align: top;\n",
       "    }\n",
       "\n",
       "    .dataframe thead th {\n",
       "        text-align: right;\n",
       "    }\n",
       "</style>\n",
       "<table border=\"1\" class=\"dataframe\">\n",
       "  <thead>\n",
       "    <tr style=\"text-align: right;\">\n",
       "      <th></th>\n",
       "      <th>session_id</th>\n",
       "      <th>DateTime</th>\n",
       "      <th>user_id</th>\n",
       "      <th>product</th>\n",
       "      <th>campaign_id</th>\n",
       "      <th>webpage_id</th>\n",
       "      <th>product_category_1</th>\n",
       "      <th>user_group_id</th>\n",
       "      <th>gender</th>\n",
       "      <th>age_level</th>\n",
       "      <th>user_depth</th>\n",
       "      <th>city_development_index</th>\n",
       "      <th>var_1</th>\n",
       "      <th>is_click</th>\n",
       "    </tr>\n",
       "  </thead>\n",
       "  <tbody>\n",
       "    <tr>\n",
       "      <th>0</th>\n",
       "      <td>140690</td>\n",
       "      <td>0</td>\n",
       "      <td>858557</td>\n",
       "      <td>2</td>\n",
       "      <td>359520</td>\n",
       "      <td>13787</td>\n",
       "      <td>4</td>\n",
       "      <td>10.0</td>\n",
       "      <td>0</td>\n",
       "      <td>4.0</td>\n",
       "      <td>3.0</td>\n",
       "      <td>3.0</td>\n",
       "      <td>0</td>\n",
       "      <td>0</td>\n",
       "    </tr>\n",
       "    <tr>\n",
       "      <th>1</th>\n",
       "      <td>333291</td>\n",
       "      <td>0</td>\n",
       "      <td>243253</td>\n",
       "      <td>2</td>\n",
       "      <td>105960</td>\n",
       "      <td>11085</td>\n",
       "      <td>5</td>\n",
       "      <td>8.0</td>\n",
       "      <td>0</td>\n",
       "      <td>2.0</td>\n",
       "      <td>2.0</td>\n",
       "      <td>2.0</td>\n",
       "      <td>0</td>\n",
       "      <td>0</td>\n",
       "    </tr>\n",
       "    <tr>\n",
       "      <th>2</th>\n",
       "      <td>129781</td>\n",
       "      <td>0</td>\n",
       "      <td>243253</td>\n",
       "      <td>2</td>\n",
       "      <td>359520</td>\n",
       "      <td>13787</td>\n",
       "      <td>4</td>\n",
       "      <td>8.0</td>\n",
       "      <td>0</td>\n",
       "      <td>2.0</td>\n",
       "      <td>2.0</td>\n",
       "      <td>4.0</td>\n",
       "      <td>0</td>\n",
       "      <td>0</td>\n",
       "    </tr>\n",
       "    <tr>\n",
       "      <th>3</th>\n",
       "      <td>464848</td>\n",
       "      <td>0</td>\n",
       "      <td>1097446</td>\n",
       "      <td>8</td>\n",
       "      <td>359520</td>\n",
       "      <td>13787</td>\n",
       "      <td>3</td>\n",
       "      <td>3.0</td>\n",
       "      <td>1</td>\n",
       "      <td>3.0</td>\n",
       "      <td>3.0</td>\n",
       "      <td>2.0</td>\n",
       "      <td>1</td>\n",
       "      <td>0</td>\n",
       "    </tr>\n",
       "    <tr>\n",
       "      <th>4</th>\n",
       "      <td>90569</td>\n",
       "      <td>0</td>\n",
       "      <td>663656</td>\n",
       "      <td>2</td>\n",
       "      <td>405490</td>\n",
       "      <td>60305</td>\n",
       "      <td>3</td>\n",
       "      <td>2.0</td>\n",
       "      <td>1</td>\n",
       "      <td>2.0</td>\n",
       "      <td>3.0</td>\n",
       "      <td>2.0</td>\n",
       "      <td>1</td>\n",
       "      <td>0</td>\n",
       "    </tr>\n",
       "  </tbody>\n",
       "</table>\n",
       "</div>"
      ],
      "text/plain": [
       "   session_id  DateTime  user_id  product  campaign_id  webpage_id  \\\n",
       "0      140690         0   858557        2       359520       13787   \n",
       "1      333291         0   243253        2       105960       11085   \n",
       "2      129781         0   243253        2       359520       13787   \n",
       "3      464848         0  1097446        8       359520       13787   \n",
       "4       90569         0   663656        2       405490       60305   \n",
       "\n",
       "   product_category_1  user_group_id  gender  age_level  user_depth  \\\n",
       "0                   4           10.0       0        4.0         3.0   \n",
       "1                   5            8.0       0        2.0         2.0   \n",
       "2                   4            8.0       0        2.0         2.0   \n",
       "3                   3            3.0       1        3.0         3.0   \n",
       "4                   3            2.0       1        2.0         3.0   \n",
       "\n",
       "   city_development_index  var_1  is_click  \n",
       "0                     3.0      0         0  \n",
       "1                     2.0      0         0  \n",
       "2                     4.0      0         0  \n",
       "3                     2.0      1         0  \n",
       "4                     2.0      1         0  "
      ]
     },
     "execution_count": 18,
     "metadata": {},
     "output_type": "execute_result"
    }
   ],
   "source": [
    "df.head()"
   ]
  },
  {
   "cell_type": "code",
   "execution_count": 19,
   "metadata": {
    "execution": {
     "iopub.execute_input": "2023-06-17T09:43:37.382833Z",
     "iopub.status.busy": "2023-06-17T09:43:37.380132Z",
     "iopub.status.idle": "2023-06-17T09:43:37.416403Z",
     "shell.execute_reply": "2023-06-17T09:43:37.414901Z",
     "shell.execute_reply.started": "2023-06-17T09:43:37.382766Z"
    }
   },
   "outputs": [
    {
     "name": "stdout",
     "output_type": "stream",
     "text": [
      "<class 'pandas.core.frame.DataFrame'>\n",
      "Int64Index: 445048 entries, 0 to 463290\n",
      "Data columns (total 14 columns):\n",
      " #   Column                  Non-Null Count   Dtype  \n",
      "---  ------                  --------------   -----  \n",
      " 0   session_id              445048 non-null  int64  \n",
      " 1   DateTime                445048 non-null  int64  \n",
      " 2   user_id                 445048 non-null  int64  \n",
      " 3   product                 445048 non-null  int64  \n",
      " 4   campaign_id             445048 non-null  int64  \n",
      " 5   webpage_id              445048 non-null  int64  \n",
      " 6   product_category_1      445048 non-null  int64  \n",
      " 7   user_group_id           445048 non-null  float64\n",
      " 8   gender                  445048 non-null  int64  \n",
      " 9   age_level               445048 non-null  float64\n",
      " 10  user_depth              445048 non-null  float64\n",
      " 11  city_development_index  445048 non-null  float64\n",
      " 12  var_1                   445048 non-null  int64  \n",
      " 13  is_click                445048 non-null  int64  \n",
      "dtypes: float64(4), int64(10)\n",
      "memory usage: 50.9 MB\n"
     ]
    }
   ],
   "source": [
    "df.info()"
   ]
  },
  {
   "cell_type": "code",
   "execution_count": 20,
   "metadata": {
    "execution": {
     "iopub.execute_input": "2023-06-17T09:43:37.418678Z",
     "iopub.status.busy": "2023-06-17T09:43:37.418154Z",
     "iopub.status.idle": "2023-06-17T09:43:37.519158Z",
     "shell.execute_reply": "2023-06-17T09:43:37.518260Z",
     "shell.execute_reply.started": "2023-06-17T09:43:37.418627Z"
    }
   },
   "outputs": [
    {
     "data": {
      "text/plain": [
       "session_id                445048\n",
       "DateTime                      24\n",
       "user_id                   143837\n",
       "product                       10\n",
       "campaign_id                   10\n",
       "webpage_id                     9\n",
       "product_category_1             5\n",
       "user_group_id                 13\n",
       "gender                         2\n",
       "age_level                      7\n",
       "user_depth                     3\n",
       "city_development_index         4\n",
       "var_1                          2\n",
       "is_click                       2\n",
       "dtype: int64"
      ]
     },
     "execution_count": 20,
     "metadata": {},
     "output_type": "execute_result"
    }
   ],
   "source": [
    "df.nunique()"
   ]
  },
  {
   "cell_type": "code",
   "execution_count": 21,
   "metadata": {
    "execution": {
     "iopub.execute_input": "2023-06-17T09:43:37.521864Z",
     "iopub.status.busy": "2023-06-17T09:43:37.520615Z",
     "iopub.status.idle": "2023-06-17T09:43:37.598007Z",
     "shell.execute_reply": "2023-06-17T09:43:37.596604Z",
     "shell.execute_reply.started": "2023-06-17T09:43:37.521818Z"
    }
   },
   "outputs": [
    {
     "name": "stdout",
     "output_type": "stream",
     "text": [
      "not click： 414991\n",
      "clicked： 30057\n"
     ]
    }
   ],
   "source": [
    "print(\"not click：\", df.loc[df['is_click']==0].shape[0])\n",
    "print(\"clicked：\", df.loc[df['is_click']==1].shape[0])"
   ]
  },
  {
   "cell_type": "code",
   "execution_count": 22,
   "metadata": {
    "execution": {
     "iopub.execute_input": "2023-06-17T09:43:37.600311Z",
     "iopub.status.busy": "2023-06-17T09:43:37.599840Z",
     "iopub.status.idle": "2023-06-17T09:43:38.005037Z",
     "shell.execute_reply": "2023-06-17T09:43:38.003807Z",
     "shell.execute_reply.started": "2023-06-17T09:43:37.600252Z"
    }
   },
   "outputs": [
    {
     "data": {
      "image/png": "[encoded data removed]",
      "text/plain": [
       "<Figure size 900x900 with 1 Axes>"
      ]
     },
     "metadata": {},
     "output_type": "display_data"
    }
   ],
   "source": [
    "labels = ['Not Click', 'Click'] \n",
    "size = df['is_click'].value_counts() \n",
    "colors = ['lightgreen', 'orange'] \n",
    "explode = [0, 0.1] \n",
    "plt.figure(figsize=(9,9)) \n",
    "plt.pie(size, colors=colors, explode=explode, labels=labels, shadow=True, autopct='%.2f%%') # 饼图参数设置\n",
    "plt.axis('off') \n",
    "plt.title(\"Data Distribution\") \n",
    "plt.legend()\n",
    "plt.show() "
   ]
  },
  {
   "cell_type": "code",
   "execution_count": 23,
   "metadata": {
    "execution": {
     "iopub.execute_input": "2023-06-17T09:43:38.008012Z",
     "iopub.status.busy": "2023-06-17T09:43:38.006678Z",
     "iopub.status.idle": "2023-06-17T09:43:38.776706Z",
     "shell.execute_reply": "2023-06-17T09:43:38.775506Z",
     "shell.execute_reply.started": "2023-06-17T09:43:38.007955Z"
    }
   },
   "outputs": [
    {
     "data": {
      "image/png": "[encoded data removed]",
      "text/plain": [
       "<Figure size 640x480 with 2 Axes>"
      ]
     },
     "metadata": {},
     "output_type": "display_data"
    }
   ],
   "source": [
    "sns.heatmap(df.corr())\n",
    "plt.show()"
   ]
  },
  {
   "cell_type": "code",
   "execution_count": 24,
   "metadata": {
    "execution": {
     "iopub.execute_input": "2023-06-17T09:43:38.779165Z",
     "iopub.status.busy": "2023-06-17T09:43:38.778455Z",
     "iopub.status.idle": "2023-06-17T09:43:39.090233Z",
     "shell.execute_reply": "2023-06-17T09:43:39.089238Z",
     "shell.execute_reply.started": "2023-06-17T09:43:38.779125Z"
    }
   },
   "outputs": [
    {
     "data": {
      "image/png": "[encoded data removed]",
      "text/plain": [
       "<Figure size 640x480 with 1 Axes>"
      ]
     },
     "metadata": {},
     "output_type": "display_data"
    }
   ],
   "source": [
    "sns.countplot(x='is_click', hue='gender',\n",
    "              data=df, \n",
    "              palette='Set2')\n",
    "\n",
    "# set the plot title and axis labels\n",
    "plt.title('Click Counts by Gender')\n",
    "plt.xlabel('Click')\n",
    "plt.ylabel('Count')\n",
    "plt.show()\n"
   ]
  },
  {
   "cell_type": "code",
   "execution_count": 25,
   "metadata": {
    "execution": {
     "iopub.execute_input": "2023-06-17T09:43:39.093512Z",
     "iopub.status.busy": "2023-06-17T09:43:39.092445Z",
     "iopub.status.idle": "2023-06-17T09:43:39.217362Z",
     "shell.execute_reply": "2023-06-17T09:43:39.216541Z",
     "shell.execute_reply.started": "2023-06-17T09:43:39.093463Z"
    }
   },
   "outputs": [
    {
     "name": "stdout",
     "output_type": "stream",
     "text": [
      "Male click rate:6.79%\n",
      "Female click rate:6.44%\n"
     ]
    }
   ],
   "source": [
    "Male = df[df['gender']==1]\n",
    "Male\n",
    "Female = df[df['gender']==0]\n",
    "print(f\"Male click rate:{round(100*sum(Male['is_click']==1)/Male.shape[0],2)}%\")\n",
    "print(f\"Female click rate:{round(100*sum(Female['is_click']==1)/Female.shape[0],2)}%\")"
   ]
  },
  {
   "cell_type": "code",
   "execution_count": 26,
   "metadata": {
    "execution": {
     "iopub.execute_input": "2023-06-17T09:43:39.219087Z",
     "iopub.status.busy": "2023-06-17T09:43:39.218495Z",
     "iopub.status.idle": "2023-06-17T09:43:39.496184Z",
     "shell.execute_reply": "2023-06-17T09:43:39.495017Z",
     "shell.execute_reply.started": "2023-06-17T09:43:39.219055Z"
    }
   },
   "outputs": [
    {
     "data": {
      "image/png": "[encoded data removed]",
      "text/plain": [
       "<Figure size 640x480 with 1 Axes>"
      ]
     },
     "metadata": {},
     "output_type": "display_data"
    }
   ],
   "source": [
    "Is_clicked = df[df['is_click']==1]\n",
    "Is_clicked_hour = Is_clicked.groupby('DateTime').agg('sum').reset_index()\n",
    "Is_clicked_hour['is_click'] = 100*Is_clicked_hour['is_click']/sum(Is_clicked_hour['is_click'])\n",
    "Is_clicked_hour\n",
    "\n",
    "sns.lineplot(x='DateTime',\n",
    "             y='is_click', \n",
    "             data=Is_clicked_hour, \n",
    "             palette='Set2')\n",
    "\n",
    "plt.title('Click Counts by DateTime')\n",
    "plt.xlabel('DateTime')\n",
    "plt.ylabel('Count %')\n",
    "\n",
    "plt.show()\n"
   ]
  },
  {
   "cell_type": "code",
   "execution_count": 27,
   "metadata": {
    "execution": {
     "iopub.execute_input": "2023-06-17T09:43:39.500272Z",
     "iopub.status.busy": "2023-06-17T09:43:39.499918Z",
     "iopub.status.idle": "2023-06-17T09:43:39.760349Z",
     "shell.execute_reply": "2023-06-17T09:43:39.759293Z",
     "shell.execute_reply.started": "2023-06-17T09:43:39.500240Z"
    }
   },
   "outputs": [
    {
     "data": {
      "image/png": "[encoded data removed]",
      "text/plain": [
       "<Figure size 640x480 with 1 Axes>"
      ]
     },
     "metadata": {},
     "output_type": "display_data"
    }
   ],
   "source": [
    "sns.countplot(x='product',data=df[df['is_click'] == 1], palette='Set2')\n",
    "\n",
    "plt.title('Click Counts by Product')\n",
    "plt.xlabel('Product_id')\n",
    "plt.ylabel('Count')\n",
    "\n",
    "plt.show()"
   ]
  },
  {
   "cell_type": "code",
   "execution_count": 28,
   "metadata": {
    "execution": {
     "iopub.execute_input": "2023-06-17T09:43:39.762197Z",
     "iopub.status.busy": "2023-06-17T09:43:39.761843Z",
     "iopub.status.idle": "2023-06-17T09:43:40.051651Z",
     "shell.execute_reply": "2023-06-17T09:43:40.050374Z",
     "shell.execute_reply.started": "2023-06-17T09:43:39.762164Z"
    }
   },
   "outputs": [
    {
     "data": {
      "image/png": "[encoded data removed]",
      "text/plain": [
       "<Figure size 640x480 with 1 Axes>"
      ]
     },
     "metadata": {},
     "output_type": "display_data"
    }
   ],
   "source": [
    "sns.countplot(y='campaign_id',data=df[df['is_click'] == 1], palette='Set2')\n",
    "\n",
    "plt.title('Click Counts by Campaign_id')\n",
    "plt.xlabel('Counts')\n",
    "plt.ylabel('campaign_id')\n",
    "\n",
    "plt.show()"
   ]
  },
  {
   "cell_type": "code",
   "execution_count": null,
   "metadata": {},
   "outputs": [],
   "source": []
  }
 ],
 "metadata": {
  "kernelspec": {
   "display_name": "Python 3 (ipykernel)",
   "language": "python",
   "name": "python3"
  },
  "language_info": {
   "codemirror_mode": {
    "name": "ipython",
    "version": 3
   },
   "file_extension": ".py",
   "mimetype": "text/x-python",
   "name": "python",
   "nbconvert_exporter": "python",
   "pygments_lexer": "ipython3",
   "version": "3.9.12"
  }
 },
 "nbformat": 4,
 "nbformat_minor": 4
}
